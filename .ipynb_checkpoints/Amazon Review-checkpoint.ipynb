{
 "cells": [
  {
   "cell_type": "code",
   "execution_count": null,
   "metadata": {},
   "outputs": [],
   "source": [
    "import pandas as pd\n",
    "import matplotlib.pyplot as plt\n",
    "import nltk.classify.util\n",
    "from sklearn.model_selection import train_test_split\n",
    "from sklearn.metrics import confusion_matrix\n",
    "from sklearn import metrics\n",
    "from sklearn.metrics import roc_curve, auc\n",
    "from sklearn.preprocessing import LabelEncoder\n",
    "from sklearn.feature_extraction.text import TfidfTransformer\n",
    "from sklearn.feature_extraction.text import TfidfVectorizer\n",
    "from sklearn.feature_extraction.text import CountVectorizer\n",
    "from xgboost import XGBClassifier\n",
    "from sklearn.linear_model import LogisticRegression\n",
    "import gensim\n",
    "from nltk.stem import WordNetLemmatizer \n",
    "from nltk.stem import PorterStemmer\n",
    "import numpy as np\n",
    "import re\n",
    "import nltk\n",
    "import time\n",
    "import seaborn as sns\n",
    "%matplotlib inline"
   ]
  },
  {
   "cell_type": "code",
   "execution_count": null,
   "metadata": {},
   "outputs": [],
   "source": [
    "reviews = pd.read_csv(\"corpus.csv\", encoding='latin-1')"
   ]
  },
  {
   "cell_type": "code",
   "execution_count": null,
   "metadata": {},
   "outputs": [],
   "source": [
    "reviews.dtypes"
   ]
  },
  {
   "cell_type": "code",
   "execution_count": null,
   "metadata": {},
   "outputs": [],
   "source": [
    "reviews.label.value_counts() / reviews.label.shape"
   ]
  },
  {
   "cell_type": "code",
   "execution_count": null,
   "metadata": {},
   "outputs": [],
   "source": [
    "lb_make = LabelEncoder()\n",
    "reviews[\"label\"] = lb_make.fit_transform(reviews[\"label\"])"
   ]
  },
  {
   "cell_type": "code",
   "execution_count": null,
   "metadata": {},
   "outputs": [],
   "source": [
    "reviews[\"length\"] = [len(i) for i in reviews.text]"
   ]
  },
  {
   "cell_type": "code",
   "execution_count": null,
   "metadata": {},
   "outputs": [],
   "source": [
    "reviews.head()"
   ]
  },
  {
   "cell_type": "code",
   "execution_count": null,
   "metadata": {},
   "outputs": [],
   "source": [
    "g = sns.FacetGrid(reviews, hue=\"label\")\n",
    "g = g.map(sns.distplot, \"length\")"
   ]
  },
  {
   "cell_type": "code",
   "execution_count": null,
   "metadata": {},
   "outputs": [],
   "source": [
    "def print_seperator():\n",
    "    print(\"============================================================================================\")\n",
    "\n",
    "def pretty_print(table):\n",
    "    print(pd.DataFrame(table, columns=['Model', 'Acc', 'Runtime', 'AUC']))"
   ]
  },
  {
   "cell_type": "code",
   "execution_count": null,
   "metadata": {},
   "outputs": [],
   "source": [
    "def run_model(model, name=None):\n",
    "    start_time = time.time()\n",
    "    model.fit(x_train, y_train)\n",
    "    total_time = time.time() - start_time\n",
    "    y_pred = model.predict(x_test)\n",
    "    y_prob = model.predict_proba(x_test)\n",
    "    accuracy = metrics.accuracy_score(y_test, y_pred)\n",
    "    fpr, tpr, threshold = metrics.roc_curve(y_test, y_prob[:,1])\n",
    "    auc = metrics.auc(fpr, tpr)\n",
    "    model_table.append({'Model':name, 'Acc': accuracy, 'Runtime': total_time, 'AUC':auc})\n",
    "    print('Model: {}', name)\n",
    "    print('Accuracy: {}', accuracy)\n",
    "    print('Time: {}', total_time)\n",
    "    print('AUC: {}', auc)\n",
    "    print(metrics.confusion_matrix(y_test, y_pred))\n",
    "    print(metrics.classification_report(y_test, y_pred))\n",
    "    plt.plot(fpr, tpr, label='AUC')\n",
    "    plt.plot([0, 1], [0,1], 'r--')\n",
    "    plt.xlim([0,1])\n",
    "    plt.ylim([0,1])\n",
    "    plt.xlabel('FPR')\n",
    "    plt.ylabel('TPR')\n",
    "    plt.show()\n",
    "    print_seperator()"
   ]
  },
  {
   "cell_type": "code",
   "execution_count": null,
   "metadata": {},
   "outputs": [],
   "source": [
    "model_table = []\n",
    "seed = 3"
   ]
  },
  {
   "cell_type": "code",
   "execution_count": null,
   "metadata": {},
   "outputs": [],
   "source": [
    "def clean_text(text):\n",
    "    text = text.strip().lower()\n",
    "    text = text = re.sub(r'[_\"\\-;%()|+&=*%.,!?:#$@\\[\\]/^]', ' ', text)\n",
    "    text = re.sub(r\"\\\\\", \"\", text)    \n",
    "    text = re.sub(r\"\\'\", \"\", text)    \n",
    "    text = re.sub(r\"\\\"\", \"\", text)    \n",
    "\n",
    "    return text"
   ]
  },
  {
   "cell_type": "code",
   "execution_count": null,
   "metadata": {},
   "outputs": [],
   "source": [
    "count_vect = CountVectorizer(stop_words=\"english\",\n",
    "                             preprocessor=clean_text)\n",
    "\n",
    "x_counts = count_vect.fit_transform(reviews.text)\n"
   ]
  },
  {
   "cell_type": "code",
   "execution_count": 14,
   "metadata": {},
   "outputs": [],
   "source": [
    "x_train, x_test, y_train, y_test = train_test_split(x_counts, reviews.label, test_size=0.3, random_state=seed)"
   ]
  },
  {
   "cell_type": "code",
   "execution_count": 15,
   "metadata": {},
   "outputs": [
    {
     "name": "stderr",
     "output_type": "stream",
     "text": [
      "c:\\users\\alex0\\anaconda3\\envs\\tflocal\\lib\\site-packages\\sklearn\\linear_model\\logistic.py:432: FutureWarning: Default solver will be changed to 'lbfgs' in 0.22. Specify a solver to silence this warning.\n",
      "  FutureWarning)\n"
     ]
    },
    {
     "name": "stdout",
     "output_type": "stream",
     "text": [
      "Model: {} BOW - LR\n",
      "Accuracy: {} 0.8316666666666667\n",
      "Time: {} 0.5917181968688965\n",
      "AUC: {} 0.906544694285901\n",
      "[[1251  272]\n",
      " [ 233 1244]]\n",
      "              precision    recall  f1-score   support\n",
      "\n",
      "           0       0.84      0.82      0.83      1523\n",
      "           1       0.82      0.84      0.83      1477\n",
      "\n",
      "    accuracy                           0.83      3000\n",
      "   macro avg       0.83      0.83      0.83      3000\n",
      "weighted avg       0.83      0.83      0.83      3000\n",
      "\n"
     ]
    },
    {
     "data": {
      "image/png": "[encoded data removed]",
      "text/plain": [
       "<Figure size 432x288 with 1 Axes>"
      ]
     },
     "metadata": {
      "needs_background": "light"
     },
     "output_type": "display_data"
    },
    {
     "name": "stdout",
     "output_type": "stream",
     "text": [
      "============================================================================================\n",
      "Model: {} BOW - XGB\n",
      "Accuracy: {} 0.7673333333333333\n",
      "Time: {} 14.594608306884766\n",
      "AUC: {} 0.8602093558885623\n",
      "[[1217  306]\n",
      " [ 392 1085]]\n",
      "              precision    recall  f1-score   support\n",
      "\n",
      "           0       0.76      0.80      0.78      1523\n",
      "           1       0.78      0.73      0.76      1477\n",
      "\n",
      "    accuracy                           0.77      3000\n",
      "   macro avg       0.77      0.77      0.77      3000\n",
      "weighted avg       0.77      0.77      0.77      3000\n",
      "\n"
     ]
    },
    {
     "data": {
      "image/png": "[encoded data removed]",
      "text/plain": [
       "<Figure size 432x288 with 1 Axes>"
      ]
     },
     "metadata": {
      "needs_background": "light"
     },
     "output_type": "display_data"
    },
    {
     "name": "stdout",
     "output_type": "stream",
     "text": [
      "============================================================================================\n"
     ]
    }
   ],
   "source": [
    "run_model(LogisticRegression(), \"BOW - LR\")\n",
    "run_model(XGBClassifier(), \"BOW - XGB\")"
   ]
  },
  {
   "cell_type": "code",
   "execution_count": 16,
   "metadata": {},
   "outputs": [
    {
     "name": "stderr",
     "output_type": "stream",
     "text": [
      "c:\\users\\alex0\\anaconda3\\envs\\tflocal\\lib\\site-packages\\sklearn\\linear_model\\logistic.py:432: FutureWarning: Default solver will be changed to 'lbfgs' in 0.22. Specify a solver to silence this warning.\n",
      "  FutureWarning)\n"
     ]
    },
    {
     "name": "stdout",
     "output_type": "stream",
     "text": [
      "Model: {} LR tfidf\n",
      "Accuracy: {} 0.8486666666666667\n",
      "Time: {} 0.1425483226776123\n",
      "AUC: {} 0.9283940270165676\n",
      "[[1316  251]\n",
      " [ 203 1230]]\n",
      "              precision    recall  f1-score   support\n",
      "\n",
      "           0       0.87      0.84      0.85      1567\n",
      "           1       0.83      0.86      0.84      1433\n",
      "\n",
      "    accuracy                           0.85      3000\n",
      "   macro avg       0.85      0.85      0.85      3000\n",
      "weighted avg       0.85      0.85      0.85      3000\n",
      "\n"
     ]
    },
    {
     "data": {
      "image/png": "[encoded data removed]",
      "text/plain": [
       "<Figure size 432x288 with 1 Axes>"
      ]
     },
     "metadata": {
      "needs_background": "light"
     },
     "output_type": "display_data"
    },
    {
     "name": "stdout",
     "output_type": "stream",
     "text": [
      "============================================================================================\n",
      "Model: {} xgb tfidf\n",
      "Accuracy: {} 0.793\n",
      "Time: {} 17.876286029815674\n",
      "AUC: {} 0.8650322799576577\n",
      "[[1276  291]\n",
      " [ 330 1103]]\n",
      "              precision    recall  f1-score   support\n",
      "\n",
      "           0       0.79      0.81      0.80      1567\n",
      "           1       0.79      0.77      0.78      1433\n",
      "\n",
      "    accuracy                           0.79      3000\n",
      "   macro avg       0.79      0.79      0.79      3000\n",
      "weighted avg       0.79      0.79      0.79      3000\n",
      "\n"
     ]
    },
    {
     "data": {
      "image/png": "[encoded data removed]",
      "text/plain": [
       "<Figure size 432x288 with 1 Axes>"
      ]
     },
     "metadata": {
      "needs_background": "light"
     },
     "output_type": "display_data"
    },
    {
     "name": "stdout",
     "output_type": "stream",
     "text": [
      "============================================================================================\n"
     ]
    }
   ],
   "source": [
    "tfidf_vector = TfidfVectorizer(stop_words=\"english\",\n",
    "                               preprocessor=clean_text)\n",
    "x_train_tfidf = tfidf_vector.fit_transform(reviews.text)\n",
    "x_train, x_test, y_train, y_test = train_test_split(x_train_tfidf, reviews.label, test_size=0.3)\n",
    "run_model(LogisticRegression(), \"LR tfidf\")\n",
    "run_model(XGBClassifier(), \"xgb tfidf\")"
   ]
  },
  {
   "cell_type": "code",
   "execution_count": 17,
   "metadata": {},
   "outputs": [
    {
     "name": "stderr",
     "output_type": "stream",
     "text": [
      "c:\\users\\alex0\\anaconda3\\envs\\tflocal\\lib\\site-packages\\sklearn\\linear_model\\logistic.py:432: FutureWarning: Default solver will be changed to 'lbfgs' in 0.22. Specify a solver to silence this warning.\n",
      "  FutureWarning)\n"
     ]
    },
    {
     "name": "stdout",
     "output_type": "stream",
     "text": [
      "Model: {} LR tfidf ngram2\n",
      "Accuracy: {} 0.8443333333333334\n",
      "Time: {} 0.25473475456237793\n",
      "AUC: {} 0.9233685255517565\n",
      "[[1308  233]\n",
      " [ 234 1225]]\n",
      "              precision    recall  f1-score   support\n",
      "\n",
      "           0       0.85      0.85      0.85      1541\n",
      "           1       0.84      0.84      0.84      1459\n",
      "\n",
      "    accuracy                           0.84      3000\n",
      "   macro avg       0.84      0.84      0.84      3000\n",
      "weighted avg       0.84      0.84      0.84      3000\n",
      "\n"
     ]
    },
    {
     "data": {
      "image/png": "[encoded data removed]",
      "text/plain": [
       "<Figure size 432x288 with 1 Axes>"
      ]
     },
     "metadata": {
      "needs_background": "light"
     },
     "output_type": "display_data"
    },
    {
     "name": "stdout",
     "output_type": "stream",
     "text": [
      "============================================================================================\n"
     ]
    },
    {
     "name": "stderr",
     "output_type": "stream",
     "text": [
      "c:\\users\\alex0\\anaconda3\\envs\\tflocal\\lib\\site-packages\\sklearn\\linear_model\\logistic.py:432: FutureWarning: Default solver will be changed to 'lbfgs' in 0.22. Specify a solver to silence this warning.\n",
      "  FutureWarning)\n"
     ]
    },
    {
     "name": "stdout",
     "output_type": "stream",
     "text": [
      "Model: {} LR tfidf ngram3\n",
      "Accuracy: {} 0.8363333333333334\n",
      "Time: {} 0.3991851806640625\n",
      "AUC: {} 0.9169562512700592\n",
      "[[1311  222]\n",
      " [ 269 1198]]\n",
      "              precision    recall  f1-score   support\n",
      "\n",
      "           0       0.83      0.86      0.84      1533\n",
      "           1       0.84      0.82      0.83      1467\n",
      "\n",
      "    accuracy                           0.84      3000\n",
      "   macro avg       0.84      0.84      0.84      3000\n",
      "weighted avg       0.84      0.84      0.84      3000\n",
      "\n"
     ]
    },
    {
     "data": {
      "image/png": "[encoded data removed]",
      "text/plain": [
       "<Figure size 432x288 with 1 Axes>"
      ]
     },
     "metadata": {
      "needs_background": "light"
     },
     "output_type": "display_data"
    },
    {
     "name": "stdout",
     "output_type": "stream",
     "text": [
      "============================================================================================\n"
     ]
    },
    {
     "name": "stderr",
     "output_type": "stream",
     "text": [
      "c:\\users\\alex0\\anaconda3\\envs\\tflocal\\lib\\site-packages\\sklearn\\linear_model\\logistic.py:432: FutureWarning: Default solver will be changed to 'lbfgs' in 0.22. Specify a solver to silence this warning.\n",
      "  FutureWarning)\n"
     ]
    },
    {
     "name": "stdout",
     "output_type": "stream",
     "text": [
      "Model: {} LR tfidf ngram4\n",
      "Accuracy: {} 0.83\n",
      "Time: {} 0.7359127998352051\n",
      "AUC: {} 0.9141452682807587\n",
      "[[1284  211]\n",
      " [ 299 1206]]\n",
      "              precision    recall  f1-score   support\n",
      "\n",
      "           0       0.81      0.86      0.83      1495\n",
      "           1       0.85      0.80      0.83      1505\n",
      "\n",
      "    accuracy                           0.83      3000\n",
      "   macro avg       0.83      0.83      0.83      3000\n",
      "weighted avg       0.83      0.83      0.83      3000\n",
      "\n"
     ]
    },
    {
     "data": {
      "image/png": "[encoded data removed]",
      "text/plain": [
       "<Figure size 432x288 with 1 Axes>"
      ]
     },
     "metadata": {
      "needs_background": "light"
     },
     "output_type": "display_data"
    },
    {
     "name": "stdout",
     "output_type": "stream",
     "text": [
      "============================================================================================\n"
     ]
    }
   ],
   "source": [
    "for i in range(2, 5):\n",
    "    \n",
    "    tfidf_vector = TfidfVectorizer(stop_words=\"english\",\n",
    "                                   preprocessor=clean_text,\n",
    "                                   ngram_range=(1, i))\n",
    "    x_train_tfidf_ngrams = tfidf_vector.fit_transform(reviews.text)\n",
    "    x_train, x_test, y_train, y_test = train_test_split(x_train_tfidf_ngrams, reviews.label, test_size=0.3)\n",
    "    run_model(LogisticRegression(), \"LR tfidf ngram\" + str(i))\n",
    "    #run_model(XGBClassifier(), \"xgb tfidf ngram\" + str(i), model_table)"
   ]
  },
  {
   "cell_type": "code",
   "execution_count": 18,
   "metadata": {},
   "outputs": [
    {
     "name": "stdout",
     "output_type": "stream",
     "text": [
      "             Model       Acc    Runtime       AUC\n",
      "0         BOW - LR  0.831667   0.591718  0.906545\n",
      "1        BOW - XGB  0.767333  14.594608  0.860209\n",
      "2         LR tfidf  0.848667   0.142548  0.928394\n",
      "3        xgb tfidf  0.793000  17.876286  0.865032\n",
      "4  LR tfidf ngram2  0.844333   0.254735  0.923369\n",
      "5  LR tfidf ngram3  0.836333   0.399185  0.916956\n",
      "6  LR tfidf ngram4  0.830000   0.735913  0.914145\n"
     ]
    }
   ],
   "source": [
    "pretty_print(model_table)"
   ]
  },
  {
   "cell_type": "code",
   "execution_count": 19,
   "metadata": {},
   "outputs": [],
   "source": [
    "ps = PorterStemmer()\n",
    "lemmatizer = WordNetLemmatizer()"
   ]
  },
  {
   "cell_type": "code",
   "execution_count": 20,
   "metadata": {},
   "outputs": [],
   "source": [
    "def clean_text_porter(text):\n",
    "    text = text.strip().lower()\n",
    "    text = text = re.sub(r'[_\"\\-;%()|+&=*%.,!?:#$@\\[\\]/^]', ' ', text)\n",
    "    text = re.sub(r\"\\\\\", \"\", text)    \n",
    "    text = re.sub(r\"\\'\", \"\", text)    \n",
    "    text = re.sub(r\"\\\"\", \"\", text)\n",
    "    text = \" \".join([ps.stem(word) for word in text.split(\" \")])\n",
    "    return text"
   ]
  },
  {
   "cell_type": "code",
   "execution_count": 21,
   "metadata": {},
   "outputs": [],
   "source": [
    "def clean_text_lemmatize(text):\n",
    "    text = text.strip().lower()\n",
    "    text = text = re.sub(r'[_\"\\-;%()|+&=*%.,!?:#$@\\[\\]/^]', ' ', text)\n",
    "    text = re.sub(r\"\\\\\", \"\", text)    \n",
    "    text = re.sub(r\"\\'\", \"\", text)    \n",
    "    text = re.sub(r\"\\\"\", \"\", text)\n",
    "    text = \" \".join([lemmatizer.lemmatize(word) for word in text.split(\" \")])\n",
    "    return text"
   ]
  },
  {
   "cell_type": "code",
   "execution_count": 26,
   "metadata": {},
   "outputs": [
    {
     "name": "stderr",
     "output_type": "stream",
     "text": [
      "c:\\users\\alex0\\anaconda3\\envs\\tflocal\\lib\\site-packages\\sklearn\\feature_extraction\\text.py:300: UserWarning: Your stop_words may be inconsistent with your preprocessing. Tokenizing the stop words generated tokens ['abov', 'afterward', 'alon', 'alreadi', 'alway', 'ani', 'anoth', 'anyon', 'anyth', 'anywher', 'becam', 'becaus', 'becom', 'befor', 'besid', 'cri', 'describ', 'dure', 'els', 'elsewher', 'empti', 'everi', 'everyon', 'everyth', 'everywher', 'fifti', 'formerli', 'forti', 'ha', 'henc', 'hereaft', 'herebi', 'hi', 'howev', 'hundr', 'inde', 'latterli', 'mani', 'meanwhil', 'moreov', 'mostli', 'nobodi', 'noon', 'noth', 'nowher', 'onc', 'onli', 'otherwis', 'ourselv', 'perhap', 'pleas', 'seriou', 'sever', 'sinc', 'sincer', 'sixti', 'someon', 'someth', 'sometim', 'somewher', 'themselv', 'thenc', 'thereaft', 'therebi', 'therefor', 'thi', 'thu', 'togeth', 'twelv', 'twenti', 'veri', 'wa', 'whatev', 'whenc', 'whenev', 'wherea', 'whereaft', 'wherebi', 'wherev', 'whi', 'yourselv'] not in stop_words.\n",
      "  'stop_words.' % sorted(inconsistent))\n",
      "c:\\users\\alex0\\anaconda3\\envs\\tflocal\\lib\\site-packages\\sklearn\\linear_model\\logistic.py:432: FutureWarning: Default solver will be changed to 'lbfgs' in 0.22. Specify a solver to silence this warning.\n",
      "  FutureWarning)\n"
     ]
    },
    {
     "name": "stdout",
     "output_type": "stream",
     "text": [
      "Model: {} LR tfidf porter\n",
      "Accuracy: {} 0.8523333333333334\n",
      "Time: {} 0.1732630729675293\n",
      "AUC: {} 0.9300683536390432\n",
      "[[1285  246]\n",
      " [ 197 1272]]\n",
      "              precision    recall  f1-score   support\n",
      "\n",
      "           0       0.87      0.84      0.85      1531\n",
      "           1       0.84      0.87      0.85      1469\n",
      "\n",
      "    accuracy                           0.85      3000\n",
      "   macro avg       0.85      0.85      0.85      3000\n",
      "weighted avg       0.85      0.85      0.85      3000\n",
      "\n"
     ]
    },
    {
     "data": {
      "image/png": "[encoded data removed]",
      "text/plain": [
       "<Figure size 432x288 with 1 Axes>"
      ]
     },
     "metadata": {
      "needs_background": "light"
     },
     "output_type": "display_data"
    },
    {
     "name": "stdout",
     "output_type": "stream",
     "text": [
      "============================================================================================\n"
     ]
    }
   ],
   "source": [
    "tfidf_vector = TfidfVectorizer(stop_words=\"english\",\n",
    "                               preprocessor=clean_text_porter)\n",
    "x_train_tfidf = tfidf_vector.fit_transform(reviews.text)\n",
    "x_train, x_test, y_train, y_test = train_test_split(x_train_tfidf, reviews.label, test_size=0.3)\n",
    "run_model(LogisticRegression(), \"LR tfidf porter\")\n",
    "#run_model(XGBClassifier(), \"xgb tfidf porter\")"
   ]
  },
  {
   "cell_type": "code",
   "execution_count": 27,
   "metadata": {},
   "outputs": [
    {
     "name": "stderr",
     "output_type": "stream",
     "text": [
      "c:\\users\\alex0\\anaconda3\\envs\\tflocal\\lib\\site-packages\\sklearn\\feature_extraction\\text.py:300: UserWarning: Your stop_words may be inconsistent with your preprocessing. Tokenizing the stop words generated tokens ['ha', 'le', 'wa'] not in stop_words.\n",
      "  'stop_words.' % sorted(inconsistent))\n",
      "c:\\users\\alex0\\anaconda3\\envs\\tflocal\\lib\\site-packages\\sklearn\\linear_model\\logistic.py:432: FutureWarning: Default solver will be changed to 'lbfgs' in 0.22. Specify a solver to silence this warning.\n",
      "  FutureWarning)\n"
     ]
    },
    {
     "name": "stdout",
     "output_type": "stream",
     "text": [
      "Model: {} LR tfidf lem\n",
      "Accuracy: {} 0.8506666666666667\n",
      "Time: {} 0.09076547622680664\n",
      "AUC: {} 0.9294376523336041\n",
      "[[1276  226]\n",
      " [ 222 1276]]\n",
      "              precision    recall  f1-score   support\n",
      "\n",
      "           0       0.85      0.85      0.85      1502\n",
      "           1       0.85      0.85      0.85      1498\n",
      "\n",
      "    accuracy                           0.85      3000\n",
      "   macro avg       0.85      0.85      0.85      3000\n",
      "weighted avg       0.85      0.85      0.85      3000\n",
      "\n"
     ]
    },
    {
     "data": {
      "image/png": "[encoded data removed]",
      "text/plain": [
       "<Figure size 432x288 with 1 Axes>"
      ]
     },
     "metadata": {
      "needs_background": "light"
     },
     "output_type": "display_data"
    },
    {
     "name": "stdout",
     "output_type": "stream",
     "text": [
      "============================================================================================\n"
     ]
    }
   ],
   "source": [
    "tfidf_vector = TfidfVectorizer(stop_words=\"english\",\n",
    "                               preprocessor=clean_text_lemmatize)\n",
    "x_train_tfidf = tfidf_vector.fit_transform(reviews.text)\n",
    "x_train, x_test, y_train, y_test = train_test_split(x_train_tfidf, reviews.label, test_size=0.3)\n",
    "run_model(LogisticRegression(), \"LR tfidf lem\")\n",
    "#run_model(XGBClassifier(), \"xgb tfidf lem\")"
   ]
  },
  {
   "cell_type": "code",
   "execution_count": 28,
   "metadata": {},
   "outputs": [
    {
     "name": "stdout",
     "output_type": "stream",
     "text": [
      "              Model       Acc    Runtime       AUC\n",
      "0          BOW - LR  0.831667   0.591718  0.906545\n",
      "1         BOW - XGB  0.767333  14.594608  0.860209\n",
      "2          LR tfidf  0.848667   0.142548  0.928394\n",
      "3         xgb tfidf  0.793000  17.876286  0.865032\n",
      "4   LR tfidf ngram2  0.844333   0.254735  0.923369\n",
      "5   LR tfidf ngram3  0.836333   0.399185  0.916956\n",
      "6   LR tfidf ngram4  0.830000   0.735913  0.914145\n",
      "7   LR tfidf porter  0.844667   0.094458  0.927205\n",
      "8      LR tfidf lem  0.849000   0.105407  0.929674\n",
      "9   LR tfidf porter  0.852333   0.173263  0.930068\n",
      "10     LR tfidf lem  0.850667   0.090765  0.929438\n"
     ]
    }
   ],
   "source": [
    "pretty_print(model_table)"
   ]
  },
  {
   "cell_type": "code",
   "execution_count": 31,
   "metadata": {},
   "outputs": [],
   "source": [
    "docs = []\n",
    "for review in reviews.text:\n",
    "    docs.append(gensim.utils.simple_preprocess(review))\n",
    "w2v = gensim.models.Word2Vec(docs)"
   ]
  },
  {
   "cell_type": "code",
   "execution_count": 44,
   "metadata": {},
   "outputs": [],
   "source": [
    "def clean_text_w2v(text):\n",
    "    text = text.strip().lower()\n",
    "    text = text = re.sub(r'[_\"\\-;%()|+&=*%.,!?:#$@\\[\\]/^]', ' ', text)\n",
    "    text = re.sub(r\"\\\\\", \"\", text)    \n",
    "    text = re.sub(r\"\\'\", \"\", text)    \n",
    "    text = re.sub(r\"\\\"\", \"\", text)\n",
    "    vector_list = \" \".join([w2v[word] for word in text.split(\" \") if word in model.vocab])\n",
    "    return vector_list"
   ]
  },
  {
   "cell_type": "code",
   "execution_count": 43,
   "metadata": {},
   "outputs": [
    {
     "name": "stderr",
     "output_type": "stream",
     "text": [
      "c:\\users\\alex0\\anaconda3\\envs\\tflocal\\lib\\site-packages\\ipykernel_launcher.py:19: DeprecationWarning: Call to deprecated `__contains__` (Method will be removed in 4.0.0, use self.wv.__contains__() instead).\n"
     ]
    },
    {
     "ename": "AttributeError",
     "evalue": "'TfidfEmbeddingVectorizer' object has no attribute 'dim'",
     "output_type": "error",
     "traceback": [
      "\u001b[1;31m---------------------------------------------------------------------------\u001b[0m",
      "\u001b[1;31mAttributeError\u001b[0m                            Traceback (most recent call last)",
      "\u001b[1;32m<ipython-input-43-3a723696f8d7>\u001b[0m in \u001b[0;36m<module>\u001b[1;34m\u001b[0m\n\u001b[0;32m      1\u001b[0m \u001b[0mtfidf_vector\u001b[0m \u001b[1;33m=\u001b[0m \u001b[0mTfidfEmbeddingVectorizer\u001b[0m\u001b[1;33m(\u001b[0m\u001b[0mw2v\u001b[0m\u001b[1;33m)\u001b[0m\u001b[1;33m\u001b[0m\u001b[1;33m\u001b[0m\u001b[0m\n\u001b[0;32m      2\u001b[0m \u001b[0mtfidf_vector\u001b[0m \u001b[1;33m=\u001b[0m \u001b[0mtfidf_vector\u001b[0m\u001b[1;33m.\u001b[0m\u001b[0mfit\u001b[0m\u001b[1;33m(\u001b[0m\u001b[0mreviews\u001b[0m\u001b[1;33m.\u001b[0m\u001b[0mtext\u001b[0m\u001b[1;33m,\u001b[0m \u001b[1;32mNone\u001b[0m\u001b[1;33m)\u001b[0m\u001b[1;33m\u001b[0m\u001b[1;33m\u001b[0m\u001b[0m\n\u001b[1;32m----> 3\u001b[1;33m \u001b[0mx_train_tfidf\u001b[0m \u001b[1;33m=\u001b[0m \u001b[0mtfidf_vector\u001b[0m\u001b[1;33m.\u001b[0m\u001b[0mtransform\u001b[0m\u001b[1;33m(\u001b[0m\u001b[0mreviews\u001b[0m\u001b[1;33m.\u001b[0m\u001b[0mtext\u001b[0m\u001b[1;33m)\u001b[0m\u001b[1;33m\u001b[0m\u001b[1;33m\u001b[0m\u001b[0m\n\u001b[0m\u001b[0;32m      4\u001b[0m \u001b[0mx_train\u001b[0m\u001b[1;33m,\u001b[0m \u001b[0mx_test\u001b[0m\u001b[1;33m,\u001b[0m \u001b[0my_train\u001b[0m\u001b[1;33m,\u001b[0m \u001b[0my_test\u001b[0m \u001b[1;33m=\u001b[0m \u001b[0mtrain_test_split\u001b[0m\u001b[1;33m(\u001b[0m\u001b[0mx_train_tfidf\u001b[0m\u001b[1;33m,\u001b[0m \u001b[0mreviews\u001b[0m\u001b[1;33m.\u001b[0m\u001b[0mlabel\u001b[0m\u001b[1;33m,\u001b[0m \u001b[0mtest_size\u001b[0m\u001b[1;33m=\u001b[0m\u001b[1;36m0.3\u001b[0m\u001b[1;33m)\u001b[0m\u001b[1;33m\u001b[0m\u001b[1;33m\u001b[0m\u001b[0m\n\u001b[0;32m      5\u001b[0m \u001b[0mrun_model\u001b[0m\u001b[1;33m(\u001b[0m\u001b[0mLogisticRegression\u001b[0m\u001b[1;33m(\u001b[0m\u001b[1;33m)\u001b[0m\u001b[1;33m,\u001b[0m \u001b[1;34m\"LR tfidf lem\"\u001b[0m\u001b[1;33m)\u001b[0m\u001b[1;33m\u001b[0m\u001b[1;33m\u001b[0m\u001b[0m\n",
      "\u001b[1;32m<ipython-input-42-7232c3dc14ac>\u001b[0m in \u001b[0;36mtransform\u001b[1;34m(self, X)\u001b[0m\n\u001b[0;32m     19\u001b[0m                          for w in words if w in self.word2vec] or\n\u001b[0;32m     20\u001b[0m                         [np.zeros(self.dim)], axis=0)\n\u001b[1;32m---> 21\u001b[1;33m                 \u001b[1;32mfor\u001b[0m \u001b[0mwords\u001b[0m \u001b[1;32min\u001b[0m \u001b[0mX\u001b[0m\u001b[1;33m\u001b[0m\u001b[1;33m\u001b[0m\u001b[0m\n\u001b[0m\u001b[0;32m     22\u001b[0m             ])\n",
      "\u001b[1;32m<ipython-input-42-7232c3dc14ac>\u001b[0m in \u001b[0;36m<listcomp>\u001b[1;34m(.0)\u001b[0m\n\u001b[0;32m     19\u001b[0m                          for w in words if w in self.word2vec] or\n\u001b[0;32m     20\u001b[0m                         [np.zeros(self.dim)], axis=0)\n\u001b[1;32m---> 21\u001b[1;33m                 \u001b[1;32mfor\u001b[0m \u001b[0mwords\u001b[0m \u001b[1;32min\u001b[0m \u001b[0mX\u001b[0m\u001b[1;33m\u001b[0m\u001b[1;33m\u001b[0m\u001b[0m\n\u001b[0m\u001b[0;32m     22\u001b[0m             ])\n",
      "\u001b[1;31mAttributeError\u001b[0m: 'TfidfEmbeddingVectorizer' object has no attribute 'dim'"
     ]
    }
   ],
   "source": [
    "tfidf_vector = TfidfEmbeddingVectorizer(w2v)\n",
    "tfidf_vector = tfidf_vector.fit(reviews.text, None)\n",
    "x_train_tfidf = tfidf_vector.transform(reviews.text)\n",
    "x_train, x_test, y_train, y_test = train_test_split(x_train_tfidf, reviews.label, test_size=0.3)\n",
    "run_model(LogisticRegression(), \"LR tfidf lem\")"
   ]
  },
  {
   "cell_type": "code",
   "execution_count": null,
   "metadata": {},
   "outputs": [],
   "source": []
  },
  {
   "cell_type": "code",
   "execution_count": null,
   "metadata": {},
   "outputs": [],
   "source": []
  },
  {
   "cell_type": "code",
   "execution_count": null,
   "metadata": {},
   "outputs": [],
   "source": []
  }
 ],
 "metadata": {
  "kernelspec": {
   "display_name": "Python 3",
   "language": "python",
   "name": "python3"
  },
  "language_info": {
   "codemirror_mode": {
    "name": "ipython",
    "version": 3
   },
   "file_extension": ".py",
   "mimetype": "text/x-python",
   "name": "python",
   "nbconvert_exporter": "python",
   "pygments_lexer": "ipython3",
   "version": "3.7.4"
  }
 },
 "nbformat": 4,
 "nbformat_minor": 2
}
